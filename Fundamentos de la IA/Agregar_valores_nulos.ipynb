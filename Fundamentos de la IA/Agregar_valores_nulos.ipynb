{
 "cells": [
  {
   "cell_type": "code",
   "execution_count": null,
   "id": "10bbedb6",
   "metadata": {},
   "outputs": [],
   "source": [
    "# =========================\n",
    "# Inyectar nulos aleatorios\n",
    "# =========================\n",
    "\n",
    "import numpy as np\n",
    "import pandas as pd\n",
    "\n",
    "# 1) Parámetros\n",
    "ruta_entrada = \"Final_data.csv\"   # Cambia si tu archivo tiene otra ruta/nombre\n",
    "porc_nulos = 0.05                    # 5% de las celdas se vuelven nulas (ajústalo)\n",
    "semilla = 42                         # Reproducibilidad\n",
    "\n",
    "# 2) Cargar datos\n",
    "rng = np.random.default_rng(semilla)\n",
    "df = pd.read_csv(ruta_entrada)\n",
    "\n",
    "# 3) Crear máscara aleatoria por celda\n",
    "mask = pd.DataFrame(\n",
    "    rng.random(size=df.shape) < porc_nulos,\n",
    "    index=df.index,\n",
    "    columns=df.columns\n",
    ")\n",
    "\n",
    "# 4) Aplicar nulos\n",
    "# df.mask coloca NaN (nulo) donde mask es True\n",
    "df_nulos = df.mask(mask)\n",
    "\n",
    "# 5) Guardar resultados\n",
    "# A) CSV con celdas vacías donde hay nulos (común en pipelines)\n",
    "df_nulos.to_csv(\"Final_data_nulls_vacio.csv\", index=False)\n",
    "\n",
    "# B) CSV con el literal 'NULL' donde hay nulos (útil si el sistema lo requiere)\n",
    "df_nulos.to_csv(\"Final_data_nulls_NULL.csv\", index=False, na_rep=\"NULL\")\n",
    "\n",
    "# 6) Vista rápida (opcional): muestra 5 primeras filas ya con nulos\n",
    "print(df_nulos.head().to_csv(index=False))\n"
   ]
  },
  {
   "cell_type": "code",
   "execution_count": null,
   "id": "e05e2fdb",
   "metadata": {},
   "outputs": [],
   "source": [
    "# (Opcional en Google Colab) Descargar los archivos generados\n",
    "# Ejecuta este bloque después del anterior si estás en Colab\n",
    "\n",
    "from google.colab import files\n",
    "files.download(\"Final_data_nulls_vacio.csv\")\n",
    "files.download(\"Final_data_nulls_NULL.csv\")\n"
   ]
  }
 ],
 "metadata": {
  "language_info": {
   "name": "python"
  }
 },
 "nbformat": 4,
 "nbformat_minor": 5
}
